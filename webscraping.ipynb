{
 "cells": [
  {
   "cell_type": "code",
   "execution_count": 4,
   "metadata": {},
   "outputs": [],
   "source": [
    "from selenium import webdriver  #    interactua con el navegador \n",
    "from selenium.webdriver.support.select import Select # permite seleccionar un elemento de una lista\n",
    "from selenium.webdriver.common.by import By # \n",
    "import time  # libreria de tiempo\n",
    "import pandas as pd # para manejar dataFrame "
   ]
  },
  {
   "cell_type": "code",
   "execution_count": 7,
   "metadata": {},
   "outputs": [],
   "source": [
    "\n",
    "website = 'https://www.adamchoi.co.uk/teamgoals/detailed' # sitio web\n",
    "executable_path = 'D:\\workspace\\driver\\chromedriver.exe' # ubicacion del driver"
   ]
  },
  {
   "cell_type": "code",
   "execution_count": 14,
   "metadata": {},
   "outputs": [
    {
     "name": "stderr",
     "output_type": "stream",
     "text": [
      "C:\\Users\\josel\\AppData\\Local\\Temp\\ipykernel_12184\\3125178382.py:1: DeprecationWarning: executable_path has been deprecated, please pass in a Service object\n",
      "  driver  = webdriver.Chrome(executable_path)\n"
     ]
    }
   ],
   "source": [
    "driver  = webdriver.Chrome(executable_path) \n",
    "driver.get(website) # abrir el website en el navegador"
   ]
  },
  {
   "cell_type": "code",
   "execution_count": 15,
   "metadata": {},
   "outputs": [],
   "source": [
    "all_matches_button = driver.find_element(\"xpath\",'//label[@analytics-event=\"All matches\"]') # busca el boton \"All matches\"\n",
    "all_matches_button.click()  # Hacer click sobre el boton\n",
    "dropdown = Select(driver.find_element(By.ID, 'country')) # selecciona  la lista con el id = \"country\"\n",
    "dropdown.select_by_visible_text('Spain') # selecciona spain"
   ]
  },
  {
   "cell_type": "code",
   "execution_count": 16,
   "metadata": {},
   "outputs": [],
   "source": [
    "data = [] # dataframe\n",
    "rows = driver.find_elements(By.TAG_NAME, 'tr') # ubica la filas\n",
    "for row in rows: # va fila por fila\n",
    "    registros = row.find_elements(By.TAG_NAME, 'td') # ubica los registros dentro de la fila\n",
    "    datos = [i.text for i in registros] # va registro por registro y lo almacena en filas\n",
    "    data.append(datos) # almacena toda la tabla\n",
    "driver.quit() # close the navegator"
   ]
  },
  {
   "cell_type": "code",
   "execution_count": 28,
   "metadata": {},
   "outputs": [],
   "source": [
    "columna = ['Fecha', 'Equipo A', 'Marcador', 'Equipo B']\n",
    "df = pd.DataFrame(data = data, columns=columna)\n",
    "df.to_csv('Matches_csv.csv', index = False) # tabla excel\n",
    "df.to_json(r'D:\\WorkSpace\\webscrp\\Matches_js.json',orient = \"values\") # archivo json"
   ]
  }
 ],
 "metadata": {
  "kernelspec": {
   "display_name": "Python 3.10.5 64-bit",
   "language": "python",
   "name": "python3"
  },
  "language_info": {
   "codemirror_mode": {
    "name": "ipython",
    "version": 3
   },
   "file_extension": ".py",
   "mimetype": "text/x-python",
   "name": "python",
   "nbconvert_exporter": "python",
   "pygments_lexer": "ipython3",
   "version": "3.10.5"
  },
  "orig_nbformat": 4,
  "vscode": {
   "interpreter": {
    "hash": "0e6339478e3f311aa650441242a7385e4706002219ddcfdcf643f76677172759"
   }
  }
 },
 "nbformat": 4,
 "nbformat_minor": 2
}
